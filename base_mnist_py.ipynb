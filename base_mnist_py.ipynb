{
  "nbformat": 4,
  "nbformat_minor": 0,
  "metadata": {
    "colab": {
      "name": "base mnist.py",
      "version": "0.3.2",
      "provenance": [],
      "include_colab_link": true
    },
    "kernelspec": {
      "name": "python3",
      "display_name": "Python 3"
    },
    "accelerator": "GPU"
  },
  "cells": [
    {
      "cell_type": "markdown",
      "metadata": {
        "id": "view-in-github",
        "colab_type": "text"
      },
      "source": [
        "[View in Colaboratory](https://colab.research.google.com/github/Hoddi76/neural-network-python/blob/master/base_mnist_py.ipynb)"
      ]
    },
    {
      "metadata": {
        "id": "j76ZCn_bwwhr",
        "colab_type": "code",
        "colab": {}
      },
      "cell_type": "code",
      "source": [
        "import numpy\n",
        "from keras.datasets import mnist\n",
        "from keras.models import Sequential # Последовательная модель сети\n",
        "from keras.layers import Dense # Тип слоев соеденение всех нейронов пред идущего уровня со всеми следующего\n",
        "from keras.utils import np_utils"
      ],
      "execution_count": 0,
      "outputs": []
    },
    {
      "metadata": {
        "id": "lkjDQKVxxFCz",
        "colab_type": "code",
        "colab": {}
      },
      "cell_type": "code",
      "source": [
        "# Устанавливаем seed для повторяемости результатов\n",
        "numpy.random.seed(42)"
      ],
      "execution_count": 0,
      "outputs": []
    },
    {
      "metadata": {
        "id": "e8JKpafwxK0U",
        "colab_type": "code",
        "colab": {}
      },
      "cell_type": "code",
      "source": [
        "# Загружаем данные\n",
        "(X_train, y_train), (X_test, y_test) = mnist.load_data()"
      ],
      "execution_count": 0,
      "outputs": []
    },
    {
      "metadata": {
        "id": "7QwUk-okxNEi",
        "colab_type": "code",
        "colab": {}
      },
      "cell_type": "code",
      "source": [
        "# Преобразование размерности изображений\n",
        "X_train = X_train.reshape(60000, 784) # 60.000 изображений представленых одномерным масивом 784пикселя\n",
        "X_test = X_test.reshape(10000, 784)"
      ],
      "execution_count": 0,
      "outputs": []
    },
    {
      "metadata": {
        "id": "bbfhV5WBxnHy",
        "colab_type": "code",
        "colab": {}
      },
      "cell_type": "code",
      "source": [
        "# Нормализация данных\n",
        "X_train = X_train.astype('float32')\n",
        "X_test = X_test.astype('float32')\n",
        "X_train /= 255\n",
        "X_test /= 255"
      ],
      "execution_count": 0,
      "outputs": []
    },
    {
      "metadata": {
        "id": "sgaqUNBhxsLK",
        "colab_type": "code",
        "colab": {}
      },
      "cell_type": "code",
      "source": [
        "# Преобразуем метки в категории\n",
        "Y_train = np_utils.to_categorical(y_train, 10)\n",
        "Y_test = np_utils.to_categorical(y_test, 10)"
      ],
      "execution_count": 0,
      "outputs": []
    },
    {
      "metadata": {
        "id": "3k4WNaQryB6Y",
        "colab_type": "text"
      },
      "cell_type": "markdown",
      "source": [
        "**Создаем нашу нейронную сеть**"
      ]
    },
    {
      "metadata": {
        "id": "XQUijDKAyHPp",
        "colab_type": "code",
        "colab": {}
      },
      "cell_type": "code",
      "source": [
        "# Создаем последовательную модель\n",
        "model = Sequential()"
      ],
      "execution_count": 0,
      "outputs": []
    },
    {
      "metadata": {
        "id": "WRTPYQKqyOu5",
        "colab_type": "code",
        "colab": {}
      },
      "cell_type": "code",
      "source": [
        "# Добавляем уровни сети\n",
        "# 2 слоя\n",
        "model.add(Dense(800, input_dim=784, activation=\"relu\", kernel_initializer=\"normal\")) # на первом слое 800нейронов у каждого из них 784 входа(по кол-ву пикселей), веса инициализируюся случайно,функция активацию релу\n",
        "model.add(Dense(10, activation=\"softmax\", kernel_initializer=\"normal\"))  # 10 нейронов (выходной слой, у нас 10цифр 0-9), функция активации софтмакс, все инициализируются случайные"
      ],
      "execution_count": 0,
      "outputs": []
    },
    {
      "metadata": {
        "id": "Gt5-bjovzcVf",
        "colab_type": "code",
        "colab": {}
      },
      "cell_type": "code",
      "source": [
        "# Компилируем модель\n",
        "model.compile(loss=\"categorical_crossentropy\", optimizer=\"SGD\", metrics=[\"accuracy\"]) # SGD метод обучения градиентный спуск, loss-мера ошибки, метрика точность"
      ],
      "execution_count": 0,
      "outputs": []
    },
    {
      "metadata": {
        "id": "d9ZuCj212NVE",
        "colab_type": "code",
        "colab": {}
      },
      "cell_type": "code",
      "source": [
        "#Печатаем характиристики\n",
        "print(model.summary())\n"
      ],
      "execution_count": 0,
      "outputs": []
    },
    {
      "metadata": {
        "id": "757buYVr3Xaj",
        "colab_type": "code",
        "colab": {}
      },
      "cell_type": "code",
      "source": [
        "# Обучаем сеть\n",
        "# парам1 = данные обучения, парам2 = правильные ответы, размер мини выборки 200элементов,эпохи,verbose позволяет печатать диагностическую инфо во время обучения.\n",
        "model.fit(X_train, Y_train, batch_size=200, epochs=125, validation_split=0.2, verbose=1)"
      ],
      "execution_count": 0,
      "outputs": []
    },
    {
      "metadata": {
        "id": "23tTXjJW5Xa6",
        "colab_type": "code",
        "colab": {}
      },
      "cell_type": "code",
      "source": [
        "# Оцениваем качество обучения сети на тестовых данных\n",
        "scores = model.evaluate(X_test, Y_test, verbose=0)\n",
        "print(\"Точность работы на тестовых данных: %.2f%%\" % (scores[1]*100))"
      ],
      "execution_count": 0,
      "outputs": []
    }
  ]
}