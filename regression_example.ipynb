{
  "nbformat": 4,
  "nbformat_minor": 0,
  "metadata": {
    "colab": {
      "name": "regression_example.ipynb",
      "version": "0.3.2",
      "provenance": [],
      "include_colab_link": true
    },
    "kernelspec": {
      "name": "python3",
      "display_name": "Python 3"
    },
    "accelerator": "GPU"
  },
  "cells": [
    {
      "cell_type": "markdown",
      "metadata": {
        "id": "view-in-github",
        "colab_type": "text"
      },
      "source": [
        "[View in Colaboratory](https://colab.research.google.com/github/Hoddi76/neural-network-python/blob/master/regression_example.ipynb)"
      ]
    },
    {
      "metadata": {
        "id": "ygTgrbZ9Z0Od",
        "colab_type": "code",
        "colab": {}
      },
      "cell_type": "code",
      "source": [
        "from keras.datasets import boston_housing\n",
        "from keras.models import Sequential\n",
        "from keras.layers import Dense"
      ],
      "execution_count": 0,
      "outputs": []
    },
    {
      "metadata": {
        "id": "jwIbewWVaDk_",
        "colab_type": "code",
        "colab": {}
      },
      "cell_type": "code",
      "source": [
        "(x_train, y_train), (x_test, y_test) = boston_housing.load_data()"
      ],
      "execution_count": 0,
      "outputs": []
    },
    {
      "metadata": {
        "id": "p6L_yGR6a1bK",
        "colab_type": "text"
      },
      "cell_type": "markdown",
      "source": [
        "**Нормализация данных**\n",
        "\n",
        "\n",
        "\n"
      ]
    },
    {
      "metadata": {
        "id": "d9azASV1a4dK",
        "colab_type": "code",
        "colab": {}
      },
      "cell_type": "code",
      "source": [
        "# Среднее значение\n",
        "mean = x_train.mean(axis=0)\n",
        "# Стандартное отклонение\n",
        "std = x_train.std(axis=0)\n",
        "\n",
        "x_train -= mean\n",
        "x_train /= std\n",
        "x_test -= mean\n",
        "x_test /= std\n"
      ],
      "execution_count": 0,
      "outputs": []
    },
    {
      "metadata": {
        "id": "cO52RMS-a-Z5",
        "colab_type": "text"
      },
      "cell_type": "markdown",
      "source": [
        "# Создаем сеть"
      ]
    },
    {
      "metadata": {
        "id": "QY7Qq8QSbDEB",
        "colab_type": "code",
        "colab": {}
      },
      "cell_type": "code",
      "source": [
        "model = Sequential()\n",
        "model.add(Dense(128, activation='relu', input_shape=(x_train.shape[1],)))\n",
        "model.add(Dense(1))\n",
        "model.compile(optimizer='adam', loss='mse', metrics=['mae']) # loss функция ошибки = среднеквадратичная ошибка,метрика средняя обсалютная ошибка"
      ],
      "execution_count": 0,
      "outputs": []
    },
    {
      "metadata": {
        "id": "7c0yMNVWcu2c",
        "colab_type": "text"
      },
      "cell_type": "markdown",
      "source": [
        "# Обучение сети"
      ]
    },
    {
      "metadata": {
        "id": "zTNbJT8mcwy8",
        "colab_type": "code",
        "colab": {}
      },
      "cell_type": "code",
      "source": [
        "model.fit(x_train, y_train, epochs=25, batch_size=1, verbose=1)"
      ],
      "execution_count": 0,
      "outputs": []
    },
    {
      "metadata": {
        "id": "duGuxJsefKQo",
        "colab_type": "text"
      },
      "cell_type": "markdown",
      "source": [
        "# Оценка точности работы сети"
      ]
    },
    {
      "metadata": {
        "id": "rNvWz7MufMF2",
        "colab_type": "code",
        "colab": {}
      },
      "cell_type": "code",
      "source": [
        "mse, mae = model.evaluate(x_test, y_test, verbose=0)"
      ],
      "execution_count": 0,
      "outputs": []
    },
    {
      "metadata": {
        "id": "vXoS1cxffPMF",
        "colab_type": "code",
        "colab": {}
      },
      "cell_type": "code",
      "source": [
        "print(\"Средняя абсолютная ошибка (тысяч долларов):\", mae)"
      ],
      "execution_count": 0,
      "outputs": []
    },
    {
      "metadata": {
        "id": "YmMiCdSDfm41",
        "colab_type": "text"
      },
      "cell_type": "markdown",
      "source": [
        "# Использование сети для предсказания цен недвижимости"
      ]
    },
    {
      "metadata": {
        "id": "Tvs71udjfojF",
        "colab_type": "code",
        "colab": {}
      },
      "cell_type": "code",
      "source": [
        "pred = model.predict(x_test)"
      ],
      "execution_count": 0,
      "outputs": []
    },
    {
      "metadata": {
        "id": "DNwHbVbIa4ca",
        "colab_type": "code",
        "colab": {}
      },
      "cell_type": "code",
      "source": [
        "print(\"Предсказанная стоимость:\", pred[100][0], \", правильная стоимость:\", y_test[100])"
      ],
      "execution_count": 0,
      "outputs": []
    }
  ]
}